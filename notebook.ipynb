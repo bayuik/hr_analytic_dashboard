{
 "cells": [
  {
   "cell_type": "markdown",
   "metadata": {},
   "source": "# Submission Pertama: Menyelesaikan Permasalahan Human Resources"
  },
  {
   "cell_type": "markdown",
   "metadata": {},
   "source": [
    "- Nama: Bayu Indra Kusuma\n",
    "- Email: bayuindrakusuma05@gmail.com\n",
    "- Id Dicoding: bayuik"
   ]
  },
  {
   "cell_type": "markdown",
   "metadata": {},
   "source": [
    "## Persiapan"
   ]
  },
  {
   "cell_type": "markdown",
   "metadata": {},
   "source": [
    "### Menyiapkan library yang dibutuhkan"
   ]
  },
  {
   "cell_type": "code",
   "metadata": {},
   "source": [
    "# Data handling\n",
    "import pandas as pd\n",
    "\n",
    "# Data visualization\n",
    "import matplotlib.pyplot as plt\n",
    "import seaborn as sns\n",
    "import plotly.express as px\n",
    "\n",
    "# Statistical analysis\n",
    "from scipy.stats import ttest_ind\n",
    "\n",
    "# Preprocessing\n",
    "from sklearn.preprocessing import LabelEncoder, MinMaxScaler\n",
    "from sklearn.model_selection import train_test_split\n",
    "\n",
    "# Modeling\n",
    "from sklearn.ensemble import RandomForestClassifier, AdaBoostClassifier\n",
    "\n",
    "# Evaluation\n",
    "from sklearn.metrics import accuracy_score, classification_report, confusion_matrix\n",
    "\n",
    "# Utilities\n",
    "import joblib"
   ],
   "outputs": [],
   "execution_count": null
  },
  {
   "cell_type": "markdown",
   "metadata": {},
   "source": "### Menyiapkan data yang akan digunakan"
  },
  {
   "cell_type": "markdown",
   "metadata": {},
   "source": [
    "## Data Understanding"
   ]
  },
  {
   "cell_type": "code",
   "metadata": {},
   "source": [
    "df = pd.read_csv('employee_data.csv')\n",
    "df.head()"
   ],
   "outputs": [],
   "execution_count": null
  },
  {
   "metadata": {},
   "cell_type": "code",
   "source": "df.columns.tolist()",
   "outputs": [],
   "execution_count": null
  },
  {
   "metadata": {},
   "cell_type": "code",
   "source": [
    "unique_counts = df.nunique().sort_values(ascending=False)\n",
    "unique_counts"
   ],
   "outputs": [],
   "execution_count": null
  },
  {
   "metadata": {},
   "cell_type": "code",
   "source": "df.info()",
   "outputs": [],
   "execution_count": null
  },
  {
   "metadata": {},
   "cell_type": "code",
   "source": [
    "categorical_cols = df.select_dtypes(include='object').columns\n",
    "\n",
    "for col in categorical_cols:\n",
    "    print(f\"### {col}\")\n",
    "    for val in df[col].unique():\n",
    "        print(f\"- {val}\")\n",
    "    print()"
   ],
   "outputs": [],
   "execution_count": null
  },
  {
   "metadata": {},
   "cell_type": "code",
   "source": [
    "num_df = df.select_dtypes(include=['int64', 'float64'])\n",
    "corr = num_df.corr()\n",
    "\n",
    "plt.figure(figsize=(12, 10))\n",
    "sns.heatmap(corr, annot=True, fmt=\".2f\", cmap=\"coolwarm\", square=True, cbar=True)\n",
    "plt.title(\"Korelasi Fitur Numerik\", fontsize=16)\n",
    "plt.show()"
   ],
   "outputs": [],
   "execution_count": null
  },
  {
   "metadata": {},
   "cell_type": "code",
   "source": [
    "plt.figure(figsize=(6, 4))\n",
    "sns.countplot(x='Attrition', data=df, palette='magma', hue=df['Attrition'])\n",
    "plt.title('Distribusi Karyawan yang Resign vs Tidak')\n",
    "plt.xticks([0, 1], ['Tidak Resign', 'Resign'])\n",
    "plt.xlabel('Attrition')\n",
    "plt.ylabel('Jumlah')\n",
    "plt.show()"
   ],
   "outputs": [],
   "execution_count": null
  },
  {
   "metadata": {},
   "cell_type": "code",
   "source": [
    "num_cols = df.select_dtypes(include=['int64', 'float64']).columns\n",
    "df[num_cols].boxplot(figsize=(15, 5), rot=90)\n",
    "plt.title('Boxplot untuk Deteksi Outlier')\n",
    "plt.show()\n"
   ],
   "outputs": [],
   "execution_count": null
  },
  {
   "metadata": {},
   "cell_type": "code",
   "source": [
    "corr_target = df[num_cols].corr()['Attrition'].sort_values(ascending=False)\n",
    "corr_target"
   ],
   "outputs": [],
   "execution_count": null
  },
  {
   "metadata": {},
   "cell_type": "code",
   "source": "df.describe().T.sort_values(by='std', ascending=False)",
   "outputs": [],
   "execution_count": null
  },
  {
   "metadata": {},
   "cell_type": "code",
   "source": [
    "\n",
    "num_cols = df.select_dtypes(include=['int64', 'float64']).columns\n",
    "df[num_cols].boxplot(figsize=(15, 5), rot=90)\n",
    "plt.title('Boxplot untuk Deteksi Outlier')\n",
    "plt.show()"
   ],
   "outputs": [],
   "execution_count": null
  },
  {
   "metadata": {},
   "cell_type": "code",
   "source": "df.isnull().sum().sort_values(ascending=False)",
   "outputs": [],
   "execution_count": null
  },
  {
   "metadata": {},
   "cell_type": "code",
   "source": "df.duplicated().sum()",
   "outputs": [],
   "execution_count": null
  },
  {
   "metadata": {},
   "cell_type": "markdown",
   "source": "## Data Preparation / Preprocessing"
  },
  {
   "metadata": {},
   "cell_type": "code",
   "source": [
    "# Menghapus missing value (jika ada)\n",
    "df.dropna(inplace=True)\n",
    "\n",
    "# Menghapus kolom yang tidak memberikan informasi (konstan atau tidak relevan)\n",
    "df.drop(columns=['EmployeeCount', 'Over18', 'StandardHours'], inplace=True)\n"
   ],
   "outputs": [],
   "execution_count": null
  },
  {
   "metadata": {},
   "cell_type": "code",
   "source": [
    "# Menampilkan 5 data pertama setelah pembersihan awal\n",
    "df.head()"
   ],
   "outputs": [],
   "execution_count": null
  },
  {
   "metadata": {},
   "cell_type": "code",
   "source": [
    "# Mengubah nilai kolom 'Attrition' dari 0 dan 1 menjadi 'Yes' dan 'No'\n",
    "df['Attrition'] = df['Attrition'].map({1: 'Yes', 0: 'No'})\n",
    "df['Attrition'] = df['Attrition'].astype('category')\n",
    "df['Attrition'].unique()\n"
   ],
   "outputs": [],
   "execution_count": null
  },
  {
   "metadata": {},
   "cell_type": "code",
   "source": [
    "# Mapping untuk kolom ordinal\n",
    "ordinal_map = {\n",
    "    'Education': {1: 'Below College', 2: 'College', 3: 'Bachelor', 4: 'Master', 5: 'Doctor'},\n",
    "    'EnvironmentSatisfaction': {1: 'Low', 2: 'Medium', 3: 'High', 4: 'Very High'},\n",
    "    'JobInvolvement': {1: 'Low', 2: 'Medium', 3: 'High', 4: 'Very High'},\n",
    "    'JobSatisfaction': {1: 'Low', 2: 'Medium', 3: 'High', 4: 'Very High'},\n",
    "    'PerformanceRating': {1: 'Low', 2: 'Good', 3: 'Excellent', 4: 'Outstanding'},\n",
    "    'RelationshipSatisfaction': {1: 'Low', 2: 'Medium', 3: 'High', 4: 'Very High'},\n",
    "    'WorkLifeBalance': {1: 'Low', 2: 'Good', 3: 'Excellent', 4: 'Outstanding'}\n",
    "}\n",
    "\n",
    "# Terapkan mapping dan ubah ke kategori\n",
    "for col, mapping in ordinal_map.items():\n",
    "    df[col] = df[col].map(mapping).astype('category')\n"
   ],
   "outputs": [],
   "execution_count": null
  },
  {
   "metadata": {},
   "cell_type": "code",
   "source": [
    "# Kolom kategorikal eksplisit\n",
    "explicit_categoricals = [\n",
    "    'BusinessTravel', 'Department', 'EducationField',\n",
    "    'Gender', 'JobRole', 'MaritalStatus', 'OverTime'\n",
    "]\n",
    "\n",
    "# Ubah tipe data ke kategori\n",
    "for col in explicit_categoricals:\n",
    "    df[col] = df[col].astype('category')\n"
   ],
   "outputs": [],
   "execution_count": null
  },
  {
   "metadata": {},
   "cell_type": "code",
   "source": [
    "# Deskripsi fitur kategorikal\n",
    "df.describe(include='category').T"
   ],
   "outputs": [],
   "execution_count": null
  },
  {
   "metadata": {},
   "cell_type": "code",
   "source": [
    "# Deskripsi fitur numerik\n",
    "df.describe(exclude='category').T\n"
   ],
   "outputs": [],
   "execution_count": null
  },
  {
   "metadata": {},
   "cell_type": "code",
   "source": [
    "# Visualisasi semua kategori dalam satu figure\n",
    "plt.figure(figsize=(15, 20))\n",
    "for i, col in enumerate(kategori_cols, 1):\n",
    "    plt.subplot(4, 2, i)\n",
    "    sns.countplot(data=df, x=col, hue='Attrition',\n",
    "                palette={'Yes': '#FF6347', 'No': '#4682B4'})\n",
    "    plt.title(f'Attrition by {col}')\n",
    "    plt.xticks(rotation=45)\n",
    "plt.tight_layout()\n",
    "plt.show()"
   ],
   "outputs": [],
   "execution_count": null
  },
  {
   "metadata": {},
   "cell_type": "code",
   "source": [
    "# Hitung total karyawan unik\n",
    "total_employees = df['EmployeeId'].nunique()\n",
    "print(f\"Jumlah karyawan: {total_employees}\")"
   ],
   "outputs": [],
   "execution_count": null
  },
  {
   "metadata": {},
   "cell_type": "code",
   "source": [
    "# Hitung persentase attrition\n",
    "attr_by_travel = df.groupby(['BusinessTravel', 'Attrition']).size().unstack()\n",
    "attr_by_travel['Attrition_Rate'] = (attr_by_travel['Yes'] /\n",
    "                                  (attr_by_travel['Yes'] + attr_by_travel['No'])) * 100\n",
    "\n",
    "fig = px.bar(\n",
    "    attr_by_travel,\n",
    "    x=attr_by_travel.index,\n",
    "    y='Attrition_Rate',\n",
    "    color_discrete_sequence=['#FF6347'],\n",
    "    labels={'x': 'Business Travel', 'y': 'Attrition Rate (%)'},\n",
    "    title=\"Persentase Attrition Berdasarkan Business Travel\"\n",
    ")\n",
    "fig.show()"
   ],
   "outputs": [],
   "execution_count": null
  },
  {
   "metadata": {},
   "cell_type": "code",
   "source": [
    "# Hitung persentase attrition\n",
    "attr_by_travel = df.groupby(['BusinessTravel', 'Attrition']).size().unstack()\n",
    "attr_by_travel['Attrition_Rate'] = (attr_by_travel['Yes'] /\n",
    "                                  (attr_by_travel['Yes'] + attr_by_travel['No'])) * 100\n",
    "\n",
    "fig = px.bar(\n",
    "    attr_by_travel,\n",
    "    x=attr_by_travel.index,\n",
    "    y='Attrition_Rate',\n",
    "    color_discrete_sequence=['#FF6347'],\n",
    "    labels={'x': 'Business Travel', 'y': 'Attrition Rate (%)'},\n",
    "    title=\"Persentase Attrition Berdasarkan Business Travel\"\n",
    ")\n",
    "fig.show()"
   ],
   "outputs": [],
   "execution_count": null
  },
  {
   "metadata": {},
   "cell_type": "code",
   "source": [
    "fig = px.box(\n",
    "    df,\n",
    "    x=\"Attrition\",\n",
    "    y=\"DistanceFromHome\",\n",
    "    color=\"Attrition\",\n",
    "    color_discrete_map={\"Yes\": \"#FF6347\", \"No\": \"#4682B4\"},\n",
    "    title=\"Distribusi Jarak dari Rumah\",\n",
    "    points=\"all\"\n",
    ")\n",
    "fig.update_layout(yaxis_title=\"Jarak dari Rumah (km)\")\n",
    "fig.show()"
   ],
   "outputs": [],
   "execution_count": null
  },
  {
   "metadata": {},
   "cell_type": "code",
   "source": [
    "# Analisis gender yang lebih komprehensif\n",
    "gender_analysis = (df.groupby('Gender')['Attrition']\n",
    "                  .value_counts(normalize=True)\n",
    "                  .mul(100)\n",
    "                  .rename('Percentage')\n",
    "                  .reset_index()\n",
    "                  .query(\"Attrition == 'Yes'\"))\n",
    "\n",
    "fig = px.bar(\n",
    "    gender_analysis,\n",
    "    x='Gender',\n",
    "    y='Percentage',\n",
    "    color='Gender',\n",
    "    text='Percentage',\n",
    "    title='Attrition Rate by Gender',\n",
    "    labels={'Percentage': 'Attrition Rate (%)'},\n",
    "    color_discrete_sequence=['#FF6347', '#4682B4']\n",
    ")\n",
    "fig.update_traces(texttemplate='%{text:.1f}%', textposition='outside')\n",
    "fig.update_layout(uniformtext_minsize=8, uniformtext_mode='hide')\n",
    "fig.show()"
   ],
   "outputs": [],
   "execution_count": null
  },
  {
   "metadata": {},
   "cell_type": "code",
   "source": [
    "# Analisis kelompok umur lebih detail\n",
    "df['AgeGroup'] = pd.cut(df['Age'], bins=[17, 25, 35, 45, 55, 65],\n",
    "                       labels=['18-25', '26-35', '36-45', '46-55', '56-65'])\n",
    "\n",
    "age_analysis = (df.groupby('AgeGroup')['Attrition']\n",
    "                .value_counts(normalize=True)\n",
    "                .mul(100)\n",
    "                .rename('Percentage')\n",
    "                .reset_index()\n",
    "                .query(\"Attrition == 'Yes'\"))\n",
    "\n",
    "fig = px.bar(\n",
    "    age_analysis,\n",
    "    x='AgeGroup',\n",
    "    y='Percentage',\n",
    "    color='AgeGroup',\n",
    "    text='Percentage',\n",
    "    title='Attrition Rate by Age Group',\n",
    "    labels={'Percentage': 'Attrition Rate (%)'},\n",
    "    color_discrete_sequence=px.colors.sequential.Reds\n",
    ")\n",
    "fig.update_traces(texttemplate='%{text:.1f}%', textposition='outside')\n",
    "fig.show()\n",
    "\n",
    "# Tambahkan boxplot untuk distribusi usia\n",
    "fig = px.box(df, x='Attrition', y='Age', color='Attrition',\n",
    "             color_discrete_map={'Yes': '#FF6347', 'No': '#4682B4'},\n",
    "             title='Age Distribution by Attrition Status')\n",
    "fig.show()"
   ],
   "outputs": [],
   "execution_count": null
  },
  {
   "metadata": {},
   "cell_type": "code",
   "source": [
    "# Cross analysis gender dan usia\n",
    "cross_analysis = (df.groupby(['Gender', 'AgeGroup'])['Attrition']\n",
    "                  .value_counts(normalize=True)\n",
    "                  .mul(100)\n",
    "                  .rename('Percentage')\n",
    "                  .reset_index()\n",
    "                  .query(\"Attrition == 'Yes'\"))\n",
    "\n",
    "fig = px.bar(\n",
    "    cross_analysis,\n",
    "    x='AgeGroup',\n",
    "    y='Percentage',\n",
    "    color='Gender',\n",
    "    barmode='group',\n",
    "    title='Attrition Rate by Age Group and Gender',\n",
    "    labels={'Percentage': 'Attrition Rate (%)'},\n",
    "    color_discrete_sequence=['#FF6347', '#4682B4']\n",
    ")\n",
    "fig.show()"
   ],
   "outputs": [],
   "execution_count": null
  },
  {
   "metadata": {},
   "cell_type": "code",
   "source": [
    "# Format output yang lebih profesional\n",
    "print(\"\\n=== ATTRITION ANALYSIS REPORT ===\")\n",
    "print(f\"\\nOverall Attrition Rate: {attrition_rate:.1f}%\")\n",
    "\n",
    "print(\"\\nTop Risk Factors:\")\n",
    "for col in kategori_cols:\n",
    "    if col != 'Attrition':\n",
    "        rate = df.groupby(col)['Attrition'].value_counts(normalize=True).xs('Yes', level=1)\n",
    "        top3 = rate.sort_values(ascending=False).head(3)\n",
    "        print(f\"\\n- {col}:\")\n",
    "        for val, pct in top3.items():\n",
    "            print(f\"  {val}: {pct*100:.1f}%\")"
   ],
   "outputs": [],
   "execution_count": null
  },
  {
   "metadata": {},
   "cell_type": "code",
   "source": [
    "# Heatmap untuk faktor kategorikal\n",
    "cat_attrition = pd.DataFrame()\n",
    "\n",
    "for col in kategori_cols:\n",
    "    if col != 'Attrition':\n",
    "        rates = df.groupby(col)['Attrition'].value_counts(normalize=True).xs('Yes', level=1)*100\n",
    "        cat_attrition[col] = rates\n",
    "\n",
    "plt.figure(figsize=(12, 8))\n",
    "sns.heatmap(cat_attrition.T.sort_values(by=cat_attrition.columns[0], ascending=False),\n",
    "            annot=True, fmt=\".1f\", cmap=\"YlOrRd\")\n",
    "plt.title(\"Attrition Rates Across Categories (%)\")\n",
    "plt.xticks(rotation=45)\n",
    "plt.tight_layout()\n",
    "plt.show()"
   ],
   "outputs": [],
   "execution_count": null
  },
  {
   "metadata": {},
   "cell_type": "code",
   "source": [
    "# 1. Analisis Komprehensif Job Role\n",
    "jobrole_analysis = (df.groupby('JobRole')['Attrition']\n",
    "                    .agg(['count', lambda x: (x == 'Yes').sum()])\n",
    "                    .rename(columns={'count': 'Total', '<lambda_0>': 'AttritionCount'})\n",
    "                    .assign(AttritionRate=lambda x: (x['AttritionCount']/x['Total'])*100)\n",
    "                    .sort_values('AttritionRate', ascending=False)\n",
    "                    .reset_index())\n",
    "\n",
    "# Visualisasi Job Role Analysis\n",
    "fig = px.bar(jobrole_analysis,\n",
    "             x='AttritionRate',\n",
    "             y='JobRole',\n",
    "             orientation='h',\n",
    "             color='AttritionRate',\n",
    "             color_continuous_scale='Reds',\n",
    "             title='Attrition Rate by Job Role (Ordered by Highest Risk)',\n",
    "             labels={'AttritionRate': 'Attrition Rate (%)', 'JobRole': 'Job Role'},\n",
    "             hover_data=['Total', 'AttritionCount'])\n",
    "\n",
    "fig.update_layout(coloraxis_showscale=False)\n",
    "fig.show()"
   ],
   "outputs": [],
   "execution_count": null
  },
  {
   "metadata": {},
   "cell_type": "code",
   "source": [
    "# 2. Analisis Komparasi Gaji\n",
    "salary_comparison = (df.groupby(['JobRole', 'Attrition'])['MonthlyIncome']\n",
    "                     .agg(['mean', 'median', 'count'])\n",
    "                     .reset_index())\n",
    "\n",
    "# Visualisasi Perbandingan Gaji\n",
    "fig = px.bar(salary_comparison,\n",
    "             x='JobRole',\n",
    "             y='mean',\n",
    "             color='Attrition',\n",
    "             barmode='group',\n",
    "             title='Salary Comparison by Job Role and Attrition Status',\n",
    "             labels={'mean': 'Average Monthly Income ($)', 'JobRole': 'Job Role'},\n",
    "             hover_data=['median', 'count'],\n",
    "             color_discrete_map={'Yes': '#FF6347', 'No': '#4682B4'})\n",
    "\n",
    "fig.update_layout(xaxis={'categoryorder':'total descending'})\n",
    "fig.show()\n"
   ],
   "outputs": [],
   "execution_count": null
  },
  {
   "metadata": {},
   "cell_type": "code",
   "source": [
    "# 3. Analisis Gabungan (Bubble Chart)\n",
    "combined_analysis = pd.merge(\n",
    "    jobrole_analysis,\n",
    "    salary_comparison[salary_comparison['Attrition']=='Yes'][['JobRole', 'mean']],\n",
    "    on='JobRole'\n",
    ").rename(columns={'mean': 'AvgSalary'})\n",
    "\n",
    "fig = px.scatter(combined_analysis,\n",
    "                 x='AvgSalary',\n",
    "                 y='AttritionRate',\n",
    "                 size='Total',\n",
    "                 color='JobRole',\n",
    "                 hover_name='JobRole',\n",
    "                 title='Attrition Risk vs Salary by Job Role',\n",
    "                 labels={'AvgSalary': 'Average Salary ($)',\n",
    "                        'AttritionRate': 'Attrition Rate (%)',\n",
    "                        'Total': 'Total Employees'})\n",
    "\n",
    "fig.update_traces(marker=dict(line=dict(width=1, color='DarkSlateGrey')))\n",
    "fig.show()"
   ],
   "outputs": [],
   "execution_count": null
  },
  {
   "metadata": {},
   "cell_type": "code",
   "source": [
    "# 4. Analisis Statistik\n",
    "print(\"\\n=== JOB ROLE INSIGHTS ===\")\n",
    "print(f\"Highest Attrition Rate: {jobrole_analysis.iloc[0]['JobRole']} ({jobrole_analysis.iloc[0]['AttritionRate']:.1f}%)\")\n",
    "print(f\"Lowest Attrition Rate: {jobrole_analysis.iloc[-1]['JobRole']} ({jobrole_analysis.iloc[-1]['AttritionRate']:.1f}%)\")\n",
    "\n",
    "salary_gap = (salary_comparison[salary_comparison['Attrition']=='No']['mean'].mean() -\n",
    "              salary_comparison[salary_comparison['Attrition']=='Yes']['mean'].mean())\n",
    "print(f\"\\nAverage Salary Difference (Stayers vs Leavers): ${salary_gap:.2f}\")"
   ],
   "outputs": [],
   "execution_count": null
  },
  {
   "metadata": {},
   "cell_type": "code",
   "source": [
    "# 1. Analisis Overtime yang Lebih Komprehensif\n",
    "overtime_analysis = (df.groupby(['OverTime', 'Attrition'])\n",
    "                     .size()\n",
    "                     .unstack()\n",
    "                     .assign(AttritionRate=lambda x: x['Yes']/(x['Yes']+x['No'])*100)\n",
    "                     .reset_index())\n",
    "\n",
    "# Visualisasi Overtime Analysis\n",
    "fig = px.bar(overtime_analysis,\n",
    "             x='OverTime',\n",
    "             y='AttritionRate',\n",
    "             color='OverTime',\n",
    "             text='AttritionRate',\n",
    "             title='Attrition Rate by Overtime Status',\n",
    "             labels={'AttritionRate': 'Attrition Rate (%)', 'OverTime': 'Overtime Status'},\n",
    "             color_discrete_sequence=['#FF6347', '#4682B4'])\n",
    "\n",
    "fig.update_traces(texttemplate='%{text:.1f}%', textposition='outside')\n",
    "fig.update_layout(showlegend=False)\n",
    "fig.show()\n"
   ],
   "outputs": [],
   "execution_count": null
  },
  {
   "metadata": {},
   "cell_type": "code",
   "source": [
    "# 2. Analisis Gabungan Overtime dan Income\n",
    "fig = px.box(df,\n",
    "             x='OverTime',\n",
    "             y='MonthlyIncome',\n",
    "             color='Attrition',\n",
    "             facet_col='Attrition',\n",
    "             title='Income Distribution by Overtime and Attrition Status',\n",
    "             labels={'MonthlyIncome': 'Monthly Income ($)'},\n",
    "             color_discrete_map={'Yes': '#FF6347', 'No': '#4682B4'})\n",
    "\n",
    "fig.update_layout(boxmode='group')\n",
    "fig.show()"
   ],
   "outputs": [],
   "execution_count": null
  },
  {
   "metadata": {},
   "cell_type": "code",
   "source": [
    "print(\"\\n=== OVERTIME & INCOME INSIGHTS ===\")\n",
    "\n",
    "# Uji statistik perbedaan gaji\n",
    "from scipy.stats import mannwhitneyu\n",
    "overtime_yes = df[df['OverTime']=='Yes']\n",
    "overtime_no = df[df['OverTime']=='No']\n",
    "\n",
    "stat, p = mannwhitneyu(overtime_yes['MonthlyIncome'], overtime_no['MonthlyIncome'])\n",
    "print(f\"\\nIncome difference (Overtime vs Non-Overtime):\")\n",
    "print(f\"Median Overtime: ${overtime_yes['MonthlyIncome'].median():.2f}\")\n",
    "print(f\"Median Non-Overtime: ${overtime_no['MonthlyIncome'].median():.2f}\")\n",
    "print(f\"Significant? {'Yes' if p < 0.05 else 'No'} (p={p:.4f})\")\n",
    "\n",
    "# Analisis interaksi Overtime-Attrition-Income\n",
    "interaction = (df.groupby(['OverTime', 'Attrition'])['MonthlyIncome']\n",
    "               .agg(['median', 'count'])\n",
    "               .reset_index()\n",
    "               .sort_values(['OverTime', 'Attrition']))\n",
    "\n",
    "print(\"\\nIncome Medians by Overtime and Attrition:\")\n",
    "print(interaction.to_string(index=False))"
   ],
   "outputs": [],
   "execution_count": null
  },
  {
   "metadata": {},
   "cell_type": "code",
   "source": [
    "# 4. Visualisasi Interaktif Gabungan\n",
    "fig = px.scatter(df,\n",
    "                 x='MonthlyIncome',\n",
    "                 y='YearsAtCompany',\n",
    "                 color='Attrition',\n",
    "                 facet_col='OverTime',\n",
    "                 title='Income vs Tenure by Overtime and Attrition Status',\n",
    "                 labels={'MonthlyIncome': 'Monthly Income ($)',\n",
    "                        'YearsAtCompany': 'Years at Company'},\n",
    "                 color_discrete_map={'Yes': '#FF6347', 'No': '#4682B4'},\n",
    "                 hover_data=['JobRole', 'Age'])\n",
    "\n",
    "fig.update_traces(marker=dict(size=8, opacity=0.7))\n",
    "fig.show()"
   ],
   "outputs": [],
   "execution_count": null
  },
  {
   "metadata": {},
   "cell_type": "code",
   "source": [
    "# Enhanced Statistical Analysis\n",
    "print(\"=== INCOME ANALYSIS ===\")\n",
    "print(f\"Mean income (Attrition=Yes): ${income_yes.mean():.2f}\")\n",
    "print(f\"Mean income (Attrition=No): ${income_no.mean():.2f}\")\n",
    "print(f\"Difference: ${income_no.mean()-income_yes.mean():.2f}\")\n",
    "print(f\"T-Statistic: {t_stat:.2f}, P-Value: {p_value:.4f}\")\n",
    "print(\"Conclusion: The income difference is\", \"statistically significant\" if p_value < 0.05 else \"not statistically significant\")\n",
    "\n",
    "# Enhanced Scatter Plot\n",
    "fig = px.scatter(df,\n",
    "                 x='MonthlyIncome',\n",
    "                 y='HourlyRate',\n",
    "                 color='Attrition',\n",
    "                 symbol='Department',\n",
    "                 size='YearsAtCompany',  # Added size dimension\n",
    "                 hover_data=['JobRole', 'Age', 'EducationField'],  # More context\n",
    "                 title=\"Income vs Hourly Rate by Department and Attrition Status\",\n",
    "                 labels={'MonthlyIncome': 'Monthly Income ($)',\n",
    "                        'HourlyRate': 'Hourly Rate ($)'},\n",
    "                 color_discrete_map={'Yes': '#FF6347', 'No': '#4682B4'})\n",
    "\n",
    "fig.update_layout(legend=dict(orientation=\"h\", yanchor=\"bottom\", y=1.02))\n",
    "fig.show()\n"
   ],
   "outputs": [],
   "execution_count": null
  },
  {
   "metadata": {},
   "cell_type": "code",
   "source": [
    "attrition_by_education = (df.groupby('EducationField')['Attrition']\n",
    "                          .value_counts(normalize=True)\n",
    "                          .mul(100)\n",
    "                          .rename('Percentage')\n",
    "                          .reset_index()\n",
    "                          .query(\"Attrition == 'Yes'\")\n",
    "                          .sort_values('Percentage', ascending=False))\n",
    "\n",
    "# Add count information\n",
    "counts = df['EducationField'].value_counts().rename('TotalCount').reset_index()\n",
    "attrition_by_education = pd.merge(attrition_by_education, counts, on='EducationField')\n",
    "\n",
    "fig = px.bar(attrition_by_education,\n",
    "             x='EducationField',\n",
    "             y='Percentage',\n",
    "             color='EducationField',\n",
    "             text='Percentage',\n",
    "             title='Attrition Rate by Education Field (with Sample Sizes)',\n",
    "             labels={'Percentage': 'Attrition Rate (%)'},\n",
    "             hover_data=['TotalCount'],\n",
    "             color_discrete_sequence=px.colors.qualitative.Pastel)\n",
    "\n",
    "fig.update_traces(texttemplate='%{text:.1f}%', textposition='outside')\n",
    "fig.update_layout(showlegend=False, xaxis_title=None)\n",
    "fig.show()"
   ],
   "outputs": [],
   "execution_count": null
  },
  {
   "metadata": {},
   "cell_type": "code",
   "source": [
    "# Additional Insight: Education vs Income\n",
    "fig = px.box(df,\n",
    "             x='EducationField',\n",
    "             y='MonthlyIncome',\n",
    "             color='Attrition',\n",
    "             title='Income Distribution by Education Field and Attrition',\n",
    "             labels={'MonthlyIncome': 'Monthly Income ($)'},\n",
    "             color_discrete_map={'Yes': '#FF6347', 'No': '#4682B4'})\n",
    "\n",
    "fig.update_layout(xaxis={'categoryorder':'total descending'})\n",
    "fig.show()"
   ],
   "outputs": [],
   "execution_count": null
  },
  {
   "metadata": {},
   "cell_type": "code",
   "source": [
    "# 1. Comprehensive Overtime Analysis\n",
    "overtime_analysis = (df.groupby(['OverTime', 'Attrition'])\n",
    "                     .size()\n",
    "                     .unstack()\n",
    "                     .assign(\n",
    "                         Total=lambda x: x['Yes'] + x['No'],\n",
    "                         AttritionRate=lambda x: x['Yes']/(x['Yes']+x['No'])*100\n",
    "                     )\n",
    "                     .reset_index())\n",
    "\n",
    "# Enhanced Overtime Visualization\n",
    "fig = px.bar(overtime_analysis,\n",
    "             x='OverTime',\n",
    "             y='AttritionRate',\n",
    "             color='OverTime',\n",
    "             text='AttritionRate',\n",
    "             title='Attrition Rate by Overtime Status (with Counts)',\n",
    "             labels={'AttritionRate': 'Attrition Rate (%)'},\n",
    "             hover_data=['Yes', 'No', 'Total'],\n",
    "             color_discrete_sequence=['#FF6347', '#4682B4'])\n",
    "\n",
    "fig.update_traces(texttemplate='%{text:.1f}%', textposition='outside')\n",
    "fig.update_layout(showlegend=False, uniformtext_minsize=8)\n",
    "fig.show()"
   ],
   "outputs": [],
   "execution_count": null
  },
  {
   "metadata": {},
   "cell_type": "code",
   "source": [
    "# 2. Satisfaction Analysis (Combined Plot)\n",
    "from plotly.subplots import make_subplots\n",
    "import plotly.graph_objects as go\n",
    "\n",
    "satisfaction_metrics = ['EnvironmentSatisfaction', 'JobSatisfaction']\n",
    "\n",
    "fig = make_subplots(rows=1, cols=2,\n",
    "                   subplot_titles=(\"Environment Satisfaction\", \"Job Satisfaction\"))\n",
    "\n",
    "for i, metric in enumerate(satisfaction_metrics, 1):\n",
    "    satisfaction_df = (df.groupby(metric)['Attrition']\n",
    "                      .value_counts(normalize=True)\n",
    "                      .mul(100)\n",
    "                      .rename('Percentage')\n",
    "                      .reset_index()\n",
    "                      .query(\"Attrition == 'Yes'\"))\n",
    "\n",
    "    fig.add_trace(\n",
    "        go.Bar(\n",
    "            x=satisfaction_df[metric],\n",
    "            y=satisfaction_df['Percentage'],\n",
    "            name=metric,\n",
    "            marker_color='#FF6347',\n",
    "            text=satisfaction_df['Percentage'].round(1)\n",
    "        ),\n",
    "        row=1, col=i\n",
    "    )\n",
    "\n",
    "fig.update_layout(\n",
    "    title_text=\"Attrition Rate by Satisfaction Levels\",\n",
    "    showlegend=False,\n",
    "    yaxis_title=\"Attrition Rate (%)\",\n",
    "    height=500\n",
    ")\n",
    "fig.update_traces(texttemplate='%{text}%', textposition='outside')\n",
    "fig.show()"
   ],
   "outputs": [],
   "execution_count": null
  },
  {
   "metadata": {},
   "cell_type": "code",
   "source": [
    "import plotly.express as px\n",
    "\n",
    "# Melt the dataframe for facet plotting\n",
    "melted_df = df.melt(id_vars=['Attrition'],\n",
    "                   value_vars=['EnvironmentSatisfaction', 'JobSatisfaction'],\n",
    "                   var_name='SatisfactionType',\n",
    "                   value_name='SatisfactionLevel')\n",
    "\n",
    "# Calculate percentages\n",
    "plot_df = (melted_df.groupby(['SatisfactionType', 'SatisfactionLevel', 'Attrition'])\n",
    "           .size()\n",
    "           .groupby(level=[0,1])\n",
    "           .apply(lambda x: 100 * x / x.sum())\n",
    "           .reset_index(name='Percentage')\n",
    "           .query(\"Attrition == 'Yes'\"))\n",
    "\n",
    "# Create facet plot\n",
    "fig = px.bar(plot_df,\n",
    "             x='SatisfactionLevel',\n",
    "             y='Percentage',\n",
    "             facet_col='SatisfactionType',\n",
    "             title='Attrition Rate by Satisfaction Levels',\n",
    "             labels={'Percentage': 'Attrition Rate (%)'},\n",
    "             color_discrete_sequence=['#FF6347'])\n",
    "\n",
    "fig.update_traces(texttemplate='%{y:.1f}%', textposition='outside')\n",
    "fig.update_layout(showlegend=False)\n",
    "fig.show()"
   ],
   "outputs": [],
   "execution_count": null
  },
  {
   "metadata": {},
   "cell_type": "code",
   "source": [
    "\n",
    "# 3. Combined Overtime-Satisfaction Analysis\n",
    "fig = px.sunburst(\n",
    "    df,\n",
    "    path=['OverTime', 'JobSatisfaction', 'Attrition'],\n",
    "    color='Attrition',\n",
    "    color_discrete_map={'Yes': '#FF6347', 'No': '#4682B4'},\n",
    "    title=\"Attrition Breakdown by Overtime and Job Satisfaction\",\n",
    "    width=700, height=700\n",
    ")\n",
    "fig.show()"
   ],
   "outputs": [],
   "execution_count": null
  },
  {
   "metadata": {},
   "cell_type": "code",
   "source": [
    "# 1. Enhanced Satisfaction Analysis (Combined Plot)\n",
    "from plotly.subplots import make_subplots\n",
    "import plotly.graph_objects as go\n",
    "\n",
    "satisfaction_metrics = ['EnvironmentSatisfaction', 'JobSatisfaction']\n",
    "\n",
    "fig = make_subplots(rows=1, cols=2,\n",
    "                   subplot_titles=(\"Environment Satisfaction\", \"Job Satisfaction\"),\n",
    "                   shared_yaxes=True)\n",
    "\n",
    "for i, metric in enumerate(satisfaction_metrics, 1):\n",
    "    # Calculate attrition rates\n",
    "    satisfaction_df = (df.groupby(metric)['Attrition']\n",
    "                      .value_counts(normalize=True)\n",
    "                      .mul(100)\n",
    "                      .rename('Percentage')\n",
    "                      .reset_index()\n",
    "                      .query(\"Attrition == 'Yes'\"))\n",
    "\n",
    "    fig.add_trace(\n",
    "        go.Bar(\n",
    "            x=satisfaction_df[metric],\n",
    "            y=satisfaction_df['Percentage'],\n",
    "            name=metric.replace('Satisfaction', ''),\n",
    "            marker_color='#FF6347',\n",
    "            text=satisfaction_df['Percentage'].round(1),\n",
    "            textposition='outside'\n",
    "        ),\n",
    "        row=1, col=i\n",
    "    )\n",
    "\n",
    "fig.update_layout(\n",
    "    title_text=\"Attrition Rates by Satisfaction Levels\",\n",
    "    showlegend=False,\n",
    "    yaxis_title=\"Attrition Rate (%)\",\n",
    "    height=500,\n",
    "    uniformtext_minsize=8\n",
    ")\n",
    "fig.show()"
   ],
   "outputs": [],
   "execution_count": null
  },
  {
   "metadata": {},
   "cell_type": "code",
   "source": [
    "\n",
    "# 3. Additional Analysis: Satisfaction vs Experience\n",
    "fig = px.scatter(\n",
    "    df,\n",
    "    x='YearsAtCompany',\n",
    "    y='JobSatisfaction',\n",
    "    color='Attrition',\n",
    "    facet_col='Attrition',\n",
    "    title=\"Job Satisfaction vs Years at Company\",\n",
    "    labels={'YearsAtCompany': 'Years at Company', 'JobSatisfaction': 'Job Satisfaction'},\n",
    "    color_discrete_map={'Yes': '#FF6347', 'No': '#4682B4'},\n",
    "    trendline=\"lowess\"\n",
    ")\n",
    "fig.show()"
   ],
   "outputs": [],
   "execution_count": null
  },
  {
   "metadata": {},
   "cell_type": "code",
   "source": [
    "# 1. Enhanced Experience Distribution Analysis\n",
    "fig = px.histogram(\n",
    "    df,\n",
    "    x='YearsAtCompany',\n",
    "    color='Attrition',\n",
    "    facet_col='Attrition',\n",
    "    barmode='overlay',\n",
    "    title=\"Detailed Work Experience Distribution by Attrition Status\",\n",
    "    labels={'YearsAtCompany': 'Years at Company'},\n",
    "    color_discrete_map={'Yes': '#FF6347', 'No': '#4682B4'},\n",
    "    nbins=20,\n",
    "    marginal='box',\n",
    "    opacity=0.7,\n",
    "    hover_data=['Department', 'JobRole', 'MonthlyIncome'],\n",
    "    histnorm='percent'  # Show percentage instead of count\n",
    ")\n",
    "\n",
    "# Add statistical annotations\n",
    "for status, color in [('Yes', '#FF6347'), ('No', '#4682B4')]:\n",
    "    subset = df[df['Attrition'] == status]\n",
    "    mean_val = subset['YearsAtCompany'].mean()\n",
    "    median_val = subset['YearsAtCompany'].median()\n",
    "\n",
    "    fig.add_annotation(\n",
    "        x=mean_val, y=10,\n",
    "        text=f\"Mean: {mean_val:.1f} yrs<br>Median: {median_val:.1f} yrs\",\n",
    "        showarrow=True,\n",
    "        arrowhead=1,\n",
    "        ax=0,\n",
    "        ay=-40,\n",
    "        bgcolor=color,\n",
    "        opacity=0.8\n",
    "    )\n",
    "\n",
    "fig.update_layout(bargap=0.1, height=500)\n",
    "fig.show()"
   ],
   "outputs": [],
   "execution_count": null
  },
  {
   "metadata": {},
   "cell_type": "code",
   "source": [
    "\n",
    "# 2. Enhanced Work Experience Trend Analysis\n",
    "experience_metrics = ['YearsAtCompany', 'TotalWorkingYears']\n",
    "\n",
    "fig = make_subplots(rows=1, cols=2,\n",
    "                   subplot_titles=(\"Years at Current Company\", \"Total Working Years\"))\n",
    "\n",
    "for i, metric in enumerate(experience_metrics, 1):\n",
    "    temp_df = df.groupby([metric, 'Attrition']).size().unstack().fillna(0)\n",
    "\n",
    "    for status, color in [('Yes', '#FF6347'), ('No', '#4682B4')]:\n",
    "        fig.add_trace(\n",
    "            go.Scatter(\n",
    "                x=temp_df.index,\n",
    "                y=temp_df[status],\n",
    "                name=f\"{status} Attrition\",\n",
    "                line=dict(color=color),\n",
    "                mode='lines+markers',\n",
    "                hovertemplate=f\"{metric}: %{{x}}<br>Count: %{{y}}\"\n",
    "            ),\n",
    "            row=1, col=i\n",
    "        )\n",
    "\n",
    "fig.update_layout(\n",
    "    title_text=\"Attrition Trends by Work Experience Metrics\",\n",
    "    yaxis_title=\"Employee Count\",\n",
    "    height=500,\n",
    "    hovermode='x unified'\n",
    ")\n",
    "fig.show()"
   ],
   "outputs": [],
   "execution_count": null
  },
  {
   "metadata": {},
   "cell_type": "code",
   "source": [
    "\n",
    "# 3. Enhanced Education Analysis with Attrition Rates\n",
    "education_order = ['Below College', 'College', 'Bachelor', 'Master', 'Doctor']\n",
    "\n",
    "fig = px.bar(\n",
    "    df.groupby('Education')['Attrition']\n",
    "      .value_counts(normalize=True)\n",
    "      .mul(100)\n",
    "      .rename('Percentage')\n",
    "      .reset_index()\n",
    "      .query(\"Attrition == 'Yes'\")\n",
    "      .sort_values('Education', key=lambda x: pd.Categorical(x, categories=education_order, ordered=True)),\n",
    "    x='Education',\n",
    "    y='Percentage',\n",
    "    color='Education',\n",
    "    title=\"Attrition Rate by Education Level\",\n",
    "    labels={'Percentage': 'Attrition Rate (%)'},\n",
    "    text='Percentage',\n",
    "    color_discrete_sequence=px.colors.sequential.Reds\n",
    ")\n",
    "\n",
    "fig.update_traces(\n",
    "    texttemplate='%{text:.1f}%',\n",
    "    textposition='outside',\n",
    "    marker_line_color='black',\n",
    "    marker_line_width=0.5\n",
    ")\n",
    "\n",
    "fig.update_layout(\n",
    "    showlegend=False,\n",
    "    xaxis_title=\"Education Level\",\n",
    "    yaxis_range=[0, df['Attrition'].eq('Yes').mean()*100*2]  # Scale to 2x overall rate\n",
    ")\n",
    "fig.show()"
   ],
   "outputs": [],
   "execution_count": null
  },
  {
   "metadata": {},
   "cell_type": "code",
   "source": [
    " #Combined Education-Experience Analysis\n",
    "fig = px.box(\n",
    "    df,\n",
    "    x='Education',\n",
    "    y='YearsAtCompany',\n",
    "    color='Attrition',\n",
    "    points='all',\n",
    "    title=\"Work Experience Distribution by Education and Attrition\",\n",
    "    labels={'YearsAtCompany': 'Years at Company'},\n",
    "    color_discrete_map={'Yes': '#FF6347', 'No': '#4682B4'},\n",
    "    category_orders={'Education': education_order}\n",
    ")\n",
    "\n",
    "fig.update_layout(\n",
    "    boxmode='group',\n",
    "    height=600,\n",
    "    hovermode='closest'\n",
    ")\n",
    "fig.show()"
   ],
   "outputs": [],
   "execution_count": null
  },
  {
   "metadata": {},
   "cell_type": "code",
   "source": "df.to_csv('employee.csv', index=False)",
   "outputs": [],
   "execution_count": null
  },
  {
   "cell_type": "markdown",
   "metadata": {},
   "source": [
    "## Modeling"
   ]
  },
  {
   "cell_type": "code",
   "metadata": {},
   "source": "df.info()",
   "outputs": [],
   "execution_count": null
  },
  {
   "metadata": {},
   "cell_type": "code",
   "source": [
    "df.drop(columns='EmployeeId',inplace=True)\n",
    "df"
   ],
   "outputs": [],
   "execution_count": null
  },
  {
   "metadata": {},
   "cell_type": "code",
   "source": [
    "# Mapping metadata untuk mengubah kategori menjadi numerik\n",
    "mapping_metadata_to_numeric = {\n",
    "    \"Attrition\": {\"No\": 0, \"Yes\": 1},\n",
    "    \"Education\": {\"Below College\": 1, \"College\": 2, \"Bachelor\": 3, \"Master\": 4, \"Doctor\": 5},\n",
    "    \"EnvironmentSatisfaction\": {\"Low\": 1, \"Medium\": 2, \"High\": 3, \"Very High\": 4},\n",
    "    \"JobInvolvement\": {\"Low\": 1, \"Medium\": 2, \"High\": 3, \"Very High\": 4},\n",
    "    \"JobSatisfaction\": {\"Low\": 1, \"Medium\": 2, \"High\": 3, \"Very High\": 4},\n",
    "    \"PerformanceRating\": {\"Low\": 1, \"Good\": 2, \"Excellent\": 3, \"Outstanding\": 4},\n",
    "    \"RelationshipSatisfaction\": {\"Low\": 1, \"Medium\": 2, \"High\": 3, \"Very High\": 4},\n",
    "    \"WorkLifeBalance\": {\"Low\": 1, \"Good\": 2, \"Excellent\": 3, \"Outstanding\": 4}\n",
    "}\n",
    "\n",
    "# Konversi kategori menjadi numerik\n",
    "for col, mapping in mapping_metadata_to_numeric.items():\n",
    "    if col in data.columns:\n",
    "        data[col] = data[col].map(mapping).astype(\"int\")\n",
    "\n",
    "# Periksa tipe data setelah konversi\n",
    "data"
   ],
   "outputs": [],
   "execution_count": null
  },
  {
   "metadata": {},
   "cell_type": "code",
   "source": [
    "columns = ['BusinessTravel',\n",
    "    'Department',\n",
    "    'EducationField',\n",
    "    'Gender',\n",
    "    'JobRole',\n",
    "    'MaritalStatus',\n",
    "    'OverTime']\n",
    "\n",
    "# Inisialisasi LabelEncoder\n",
    "label_encoders = {}\n",
    "\n",
    "# Proses encoding untuk setiap kolom\n",
    "for col in columns:\n",
    "    if col in data.columns:\n",
    "        le = LabelEncoder()\n",
    "        data[col] = le.fit_transform(data[col])\n",
    "        label_encoders[col] = le  # Simpan encoder untuk referensi di masa depan\n",
    "\n",
    "# Periksa data setelah transformasi\n",
    "data"
   ],
   "outputs": [],
   "execution_count": null
  },
  {
   "metadata": {},
   "cell_type": "code",
   "source": [
    "x = data.drop('Attrition',axis=1)\n",
    "y = data['Attrition']"
   ],
   "outputs": [],
   "execution_count": null
  },
  {
   "metadata": {},
   "cell_type": "code",
   "source": [
    "#split data into train and test set.\n",
    "X_train,X_test,y_train,y_test = train_test_split(x,y,test_size=0.20,random_state=42)"
   ],
   "outputs": [],
   "execution_count": null
  },
  {
   "metadata": {},
   "cell_type": "code",
   "source": [
    "# Inisialisasi scaler\n",
    "scaler = MinMaxScaler()\n",
    "\n",
    "# Fit scaler pada data training dan transformasi\n",
    "X_train = scaler.fit_transform(X_train)\n",
    "\n",
    "# Transformasi data testing menggunakan scaler yang sama\n",
    "X_test = scaler.transform(X_test)"
   ],
   "outputs": [],
   "execution_count": null
  },
  {
   "metadata": {},
   "cell_type": "code",
   "source": [
    "print(X_train.shape)\n",
    "print(X_test.shape)"
   ],
   "outputs": [],
   "execution_count": null
  },
  {
   "metadata": {},
   "cell_type": "code",
   "source": [
    "boost = AdaBoostClassifier(base_estimator = RandomForestClassifier(max_depth=1), n_estimators=500, algorithm='SAMME',learning_rate=0.01)\n",
    "\n",
    "boost.fit(X_train,y_train)"
   ],
   "outputs": [],
   "execution_count": null
  },
  {
   "metadata": {},
   "cell_type": "code",
   "source": "predictions = boost.predict(X_test)",
   "outputs": [],
   "execution_count": null
  },
  {
   "cell_type": "markdown",
   "metadata": {},
   "source": [
    "## Evaluation"
   ]
  },
  {
   "cell_type": "code",
   "metadata": {},
   "source": [
    "# Evaluasi model\n",
    "accuracy = accuracy_score(y_test, predictions)\n",
    "print(f\"Akurasi Model: {accuracy:.2f}\")"
   ],
   "outputs": [],
   "execution_count": null
  },
  {
   "metadata": {},
   "cell_type": "code",
   "source": [
    "# Laporan klasifikasi\n",
    "print(\"\\nLaporan Klasifikasi:\")\n",
    "print(classification_report(y_test, predictions))"
   ],
   "outputs": [],
   "execution_count": null
  },
  {
   "metadata": {},
   "cell_type": "code",
   "source": [
    "# Confusion Matrix\n",
    "conf_matrix = confusion_matrix(y_test, predictions)"
   ],
   "outputs": [],
   "execution_count": null
  },
  {
   "metadata": {},
   "cell_type": "code",
   "source": [
    "# Visualisasi Confusion Matrix\n",
    "plt.figure(figsize=(8, 6))\n",
    "sns.heatmap(conf_matrix, annot=True, fmt=\"d\", cmap=\"Blues\", xticklabels=set(y_test), yticklabels=set(y_test))\n",
    "plt.title(\"Confusion Matrix\")\n",
    "plt.xlabel(\"Prediksi\")\n",
    "plt.ylabel(\"Aktual\")\n",
    "plt.show()"
   ],
   "outputs": [],
   "execution_count": null
  },
  {
   "metadata": {},
   "cell_type": "code",
   "source": [
    "# Save the model\n",
    "joblib.dump(boost, 'adaboost_model.pkl')\n",
    "\n",
    "print(\"Model saved successfully!\")"
   ],
   "outputs": [],
   "execution_count": null
  }
 ],
 "metadata": {
  "kernelspec": {
   "display_name": "ds",
   "language": "python",
   "name": "python3"
  },
  "language_info": {
   "name": "python",
   "version": "3.9.18"
  },
  "orig_nbformat": 4
 },
 "nbformat": 4,
 "nbformat_minor": 2
}
