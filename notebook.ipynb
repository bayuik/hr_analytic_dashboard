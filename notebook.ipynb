{
 "cells": [
  {
   "cell_type": "markdown",
   "metadata": {},
   "source": "# Submission Pertama: Menyelesaikan Permasalahan Human Resources"
  },
  {
   "cell_type": "markdown",
   "metadata": {},
   "source": [
    "- Nama: Bayu Indra Kusuma\n",
    "- Email: bayuindrakusuma05@gmail.com\n",
    "- Id Dicoding: bayuik"
   ]
  },
  {
   "cell_type": "markdown",
   "metadata": {},
   "source": [
    "## Persiapan"
   ]
  },
  {
   "cell_type": "markdown",
   "metadata": {},
   "source": [
    "### Menyiapkan library yang dibutuhkan"
   ]
  },
  {
   "cell_type": "code",
   "metadata": {},
   "source": [
    "import pandas as pd\n",
    "import seaborn as sns\n",
    "import matplotlib.pyplot as plt\n",
    "from scipy.stats import ttest_ind\n",
    "import plotly.express as px\n",
    "from sklearn.model_selection import train_test_split\n",
    "from sklearn.preprocessing import LabelEncoder\n",
    "from sklearn.preprocessing import MinMaxScaler\n",
    "from sklearn.ensemble import AdaBoostClassifier, RandomForestClassifier\n",
    "from sklearn.metrics import accuracy_score, classification_report, confusion_matrix\n",
    "import seaborn as sns\n",
    "import matplotlib.pyplot as plt\n",
    "import joblib"
   ],
   "outputs": [],
   "execution_count": null
  },
  {
   "cell_type": "markdown",
   "metadata": {},
   "source": "### Menyiapkan data yang akan digunakan"
  },
  {
   "cell_type": "markdown",
   "metadata": {},
   "source": [
    "## Data Understanding"
   ]
  },
  {
   "cell_type": "code",
   "metadata": {},
   "source": [
    "# Cell 1: Load data dan tampilkan sample\n",
    "import pandas as pd\n",
    "data = pd.read_csv('employee_data.csv')\n",
    "data.head(3)  # Menampilkan 3 baris pertama saja untuk efisiensi"
   ],
   "outputs": [],
   "execution_count": null
  },
  {
   "metadata": {},
   "cell_type": "code",
   "source": [
    "# Cell 2: Analisis struktur data\n",
    "print(\"=\"*50)\n",
    "print(\"SHAPE & COLUMNS:\")\n",
    "print(f\"Shape: {data.shape}\")\n",
    "print(\"\\nColumns:\")\n",
    "print(data.columns.tolist())  # Lebih rapi sebagai list"
   ],
   "outputs": [],
   "execution_count": null
  },
  {
   "metadata": {},
   "cell_type": "code",
   "source": [
    "# Cell 3: Analisis nilai unik\n",
    "print(\"=\"*50)\n",
    "print(\"UNIQUE VALUES (Sorted):\")\n",
    "unique_values = data.nunique()\n",
    "print(unique_values.sort_values(ascending=False))"
   ],
   "outputs": [],
   "execution_count": null
  },
  {
   "metadata": {},
   "cell_type": "code",
   "source": [
    "# Cell 4: Info data\n",
    "print(\"=\"*50)\n",
    "print(\"DATA INFO:\")\n",
    "data.info(verbose=True, show_counts=True)  # Menampilkan detail lengkap"
   ],
   "outputs": [],
   "execution_count": null
  },
  {
   "metadata": {},
   "cell_type": "code",
   "source": [
    "# Cell 5: Eksplorasi kolom kategorikal (optimized)\n",
    "categorical_columns = data.select_dtypes(include=['object', 'category']).columns\n",
    "\n",
    "print(\"=\"*50)\n",
    "print(\"CATEGORICAL FEATURES SUMMARY:\")\n",
    "for col in categorical_columns:\n",
    "    print(f\"\\n{col}:\")\n",
    "    print(f\"Unique count: {data[col].nunique()}\")\n",
    "    print(\"Sample values:\", data[col].unique()[:5])  # Batasi sampel nilai unik"
   ],
   "outputs": [],
   "execution_count": null
  },
  {
   "metadata": {},
   "cell_type": "code",
   "source": [
    "# Cell 6: Missing values analysis\n",
    "print(\"=\"*50)\n",
    "print(\"MISSING VALUES:\")\n",
    "print(data.isnull().sum().sort_values(ascending=False))"
   ],
   "outputs": [],
   "execution_count": null
  },
  {
   "metadata": {},
   "cell_type": "code",
   "source": [
    "# Cell 7: Numerical summary\n",
    "print(\"=\"*50)\n",
    "print(\"NUMERICAL FEATURES SUMMARY:\")\n",
    "print(data.describe().T.round(2))  # Transpose dan rounding"
   ],
   "outputs": [],
   "execution_count": null
  },
  {
   "metadata": {},
   "cell_type": "code",
   "source": [
    "# Cell 1: Korelasi numerik (visualisasi saja, tanpa print)\n",
    "import matplotlib.pyplot as plt\n",
    "import seaborn as sns\n",
    "\n",
    "numeric_data = data.select_dtypes(include=['number'])\n",
    "plt.figure(figsize=(10, 8))\n",
    "sns.heatmap(\n",
    "    numeric_data.corr(),\n",
    "    annot=True,\n",
    "    fmt=\".2f\",\n",
    "    cmap=\"coolwarm\",\n",
    "    mask=numeric_data.corr().abs() < 0.3,  # Hanya tampilkan korelasi signifikan\n",
    "    vmin=-1, vmax=1,\n",
    "    linewidths=0.5\n",
    ")\n",
    "plt.title(\"Korelasi Numerik (|r| > 0.3)\", pad=20, fontsize=14)\n",
    "plt.tight_layout()\n",
    "plt.savefig('numeric_correlation.png')  # Simpan untuk dashboard\n",
    "plt.close()  # Hindari auto-display di notebook"
   ],
   "outputs": [],
   "execution_count": null
  },
  {
   "metadata": {},
   "cell_type": "code",
   "source": [
    "# Cell 2: Data quality check (simpan ke variabel untuk digunakan nanti)\n",
    "missing_data = data.isnull().sum().sort_values(ascending=False)\n",
    "duplicate_count = data.duplicated().sum()\n",
    "\n",
    "# Output hanya jika ada masalah\n",
    "if missing_data.any():\n",
    "    print(\"PERINGATAN: Terdapat missing values\")\n",
    "    print(missing_data[missing_data > 0])\n",
    "\n",
    "if duplicate_count > 0:\n",
    "    print(f\"\\nPERINGATAN: Terdapat {duplicate_count} duplikat data\")\n",
    "else:\n",
    "    print(\"\\nData quality check: Tidak ditemukan duplikat\")"
   ],
   "outputs": [],
   "execution_count": null
  },
  {
   "metadata": {},
   "cell_type": "code",
   "source": [
    "# Cell 3: Analisis target (attrition)\n",
    "attrition_rate = data['Attrition'].value_counts(normalize=True)\n",
    "print(f\"Attrition Rate: {attrition_rate[1]:.1%}\")\n",
    "\n",
    "plt.figure(figsize=(6,4))\n",
    "sns.countplot(data=data, x='Attrition', palette='viridis')\n",
    "plt.title('Distribusi Attrition')\n",
    "plt.savefig('attrition_dist.png')\n",
    "plt.close()"
   ],
   "outputs": [],
   "execution_count": null
  },
  {
   "metadata": {},
   "cell_type": "code",
   "source": [
    "eda_results = {\n",
    "    'correlation_matrix': numeric_data.corr(),\n",
    "    'missing_data': missing_data,\n",
    "    'duplicate_count': duplicate_count,\n",
    "    'attrition_rate': attrition_rate[1]\n",
    "}"
   ],
   "outputs": [],
   "execution_count": null
  },
  {
   "cell_type": "markdown",
   "metadata": {},
   "source": [
    "## Data Preparation / Preprocessing"
   ]
  },
  {
   "cell_type": "code",
   "metadata": {},
   "source": [
    "# Cell 1: Handling missing values dan kolom redundant\n",
    "# Simpan info sebelum cleaning untuk dokumentasi\n",
    "initial_shape = data.shape\n",
    "dropped_cols = ['EmployeeCount', 'Over18', 'StandardHours']\n",
    "\n",
    "data_clean = data.dropna().drop(columns=dropped_cols)\n",
    "print(f\"Data cleaned: {initial_shape} -> {data_clean.shape}\")\n",
    "print(f\"Columns dropped: {dropped_cols}\")"
   ],
   "outputs": [],
   "execution_count": null
  },
  {
   "metadata": {},
   "cell_type": "code",
   "source": [
    "# Cell 2: Transformasi target variable (Attrition)\n",
    "data_clean['Attrition'] = data_clean['Attrition'].map({1: 'Yes', 0: 'No'}).astype('category')"
   ],
   "outputs": [],
   "execution_count": null
  },
  {
   "metadata": {},
   "cell_type": "code",
   "source": [
    "# Cell 3: Mapping ordinal features (optimized version)\n",
    "ordinal_mappings = {\n",
    "    'Education': {1: 'Below College', 2: 'College', 3: 'Bachelor', 4: 'Master', 5: 'Doctor'},\n",
    "    'EnvironmentSatisfaction': {1: 'Low', 2: 'Medium', 3: 'High', 4: 'Very High'},\n",
    "    'JobSatisfaction': {1: 'Low', 2: 'Medium', 3: 'High', 4: 'Very High'},\n",
    "    'PerformanceRating': {1: 'Low', 2: 'Good', 3: 'Excellent', 4: 'Outstanding'},\n",
    "    'WorkLifeBalance': {1: 'Low', 2: 'Good', 3: 'Excellent', 4: 'Outstanding'}\n",
    "}\n",
    "\n",
    "for col, mapping in ordinal_mappings.items():\n",
    "    data_clean[col] = data_clean[col].map(mapping).astype('category')"
   ],
   "outputs": [],
   "execution_count": null
  },
  {
   "metadata": {},
   "cell_type": "code",
   "source": [
    "# Cell 4: Convert categorical columns (single operation)\n",
    "cat_cols = ['BusinessTravel', 'Department', 'EducationField',\n",
    "            'Gender', 'JobRole', 'MaritalStatus', 'OverTime']\n",
    "data_clean[cat_cols] = data_clean[cat_cols].astype('category')"
   ],
   "outputs": [],
   "execution_count": null
  },
  {
   "metadata": {},
   "cell_type": "code",
   "source": [
    "# Cell 5: Quick summary (combined)\n",
    "print(\"\\n=== Categorical Features ===\")\n",
    "print(data_clean.describe(include='category').T)\n",
    "\n",
    "print(\"\\n=== Numerical Features ===\")\n",
    "print(data_clean.describe().round(2))"
   ],
   "outputs": [],
   "execution_count": null
  },
  {
   "metadata": {},
   "cell_type": "code",
   "source": [
    "# Cell 6: Check class imbalance\n",
    "attrition_dist = data_clean['Attrition'].value_counts(normalize=True)\n",
    "print(f\"\\nAttrition Distribution:\\n{attrition_dist}\")"
   ],
   "outputs": [],
   "execution_count": null
  },
  {
   "metadata": {},
   "cell_type": "code",
   "source": [
    "# Cell 7: Simpan data clean\n",
    "data_clean.to_csv('hr_data_clean.csv', index=False)\n",
    "print(\"\\nData cleaned saved for visualization!\")"
   ],
   "outputs": [],
   "execution_count": null
  },
  {
   "metadata": {},
   "cell_type": "code",
   "source": [
    "# Cell 8: Contoh encoding untuk model ML (jika diperlukan)\n",
    "from sklearn.preprocessing import LabelEncoder\n",
    "\n",
    "le = LabelEncoder()\n",
    "data_ml = data_clean.copy()\n",
    "for col in cat_cols:\n",
    "    data_ml[col] = le.fit_transform(data_ml[col])"
   ],
   "outputs": [],
   "execution_count": null
  },
  {
   "metadata": {},
   "cell_type": "code",
   "source": [
    "# Cell 1: Employee Count\n",
    "print(f\"Total Employees: {data['EmployeeId'].nunique():,}\")"
   ],
   "outputs": [],
   "execution_count": null
  },
  {
   "metadata": {},
   "cell_type": "code",
   "source": [
    "# Menghitung jumlah karyawan berdasarkan 'Attrition' (Aktif vs Keluar)\n",
    "attrition_comparison = data['Attrition'].value_counts().reset_index()\n",
    "attrition_comparison.columns = ['Attrition', 'Count']\n",
    "\n",
    "# Membuat grafik batang interaktif menggunakan Plotly\n",
    "fig = px.bar(attrition_comparison,\n",
    "             x='Attrition',\n",
    "             y='Count',\n",
    "             color='Attrition',\n",
    "             color_discrete_map={'Yes': '#FF6347', 'No': '#4682B4'},\n",
    "             labels={'Attrition': 'Attrition Status', 'Count': 'Number of Employees'},\n",
    "             title=\"Perbandingan Karyawan Aktif dan Keluar\")\n",
    "\n",
    "# Menampilkan grafik\n",
    "fig.show()"
   ],
   "outputs": [],
   "execution_count": null
  },
  {
   "metadata": {},
   "cell_type": "code",
   "source": [
    "# Cell 2: Consolidated Visualization Function\n",
    "def plot_attrition_comparison(df, group_col, title):\n",
    "    fig = px.bar(\n",
    "        df.groupby([group_col, 'Attrition']).size().reset_index(name='Count'),\n",
    "        x=group_col,\n",
    "        y='Count',\n",
    "        color='Attrition',\n",
    "        barmode='group',\n",
    "        color_discrete_map={'Yes': '#FF6347', 'No': '#4682B4'},\n",
    "        title=f\"Attrition by {title}\",\n",
    "        labels={'Count': 'Number of Employees'}\n",
    "    )\n",
    "    fig.write_image(f\"attrition_by_{group_col.lower()}.png\")  # Save for Tableau\n",
    "    return fig\n",
    "\n",
    "# Generate and save all comparison plots\n",
    "comparison_plots = {\n",
    "    'Gender': \"Gender\",\n",
    "    'BusinessTravel': \"Business Travel Frequency\",\n",
    "    'Department': \"Department\",\n",
    "    'JobRole': \"Job Role\"\n",
    "}\n",
    "\n",
    "for col, title in comparison_plots.items():\n",
    "    plot_attrition_comparison(data, col, title)"
   ],
   "outputs": [],
   "execution_count": null
  },
  {
   "metadata": {},
   "cell_type": "code",
   "source": [
    "# Cell 3: Age Distribution Analysis\n",
    "px.histogram(\n",
    "    data,\n",
    "    x='Age',\n",
    "    color='Attrition',\n",
    "    nbins=20,\n",
    "    barmode='overlay',\n",
    "    title='Age Distribution by Attrition Status',\n",
    "    color_discrete_map={'Yes': '#FF6347', 'No': '#4682B4'}\n",
    ").write_image(\"age_attrition_dist.png\")  # Save for Tableau"
   ],
   "outputs": [],
   "execution_count": null
  },
  {
   "metadata": {},
   "cell_type": "code",
   "source": [
    "# Cell 4: Distance From Home Analysis\n",
    "px.box(\n",
    "    data,\n",
    "    x='Attrition',\n",
    "    y='DistanceFromHome',\n",
    "    color='Attrition',\n",
    "    color_discrete_map={'Yes': '#FF6347', 'No': '#4682B4'},\n",
    "    title='Distance from Home vs Attrition'\n",
    ").write_image(\"distance_attrition.png\")"
   ],
   "outputs": [],
   "execution_count": null
  },
  {
   "metadata": {},
   "cell_type": "code",
   "source": [
    "import plotly.express as px\n",
    "from scipy.stats import ttest_ind\n",
    "\n",
    "# Rata-rata gaji berdasarkan status Attrition\n",
    "salary_summary = data.groupby('Attrition')['MonthlyIncome'].describe()\n",
    "display(salary_summary)\n",
    "\n",
    "# Membuat histogram untuk MonthlyIncome berdasarkan Attrition\n",
    "fig = px.histogram(\n",
    "    data,\n",
    "    x='MonthlyIncome',\n",
    "    color='Attrition',\n",
    "    barmode='overlay',\n",
    "    title=\"Monthly Income Distribution by Attrition Status\",\n",
    "    labels={'Attrition': 'Attrition', 'MonthlyIncome': 'Monthly Income'},\n",
    "    color_discrete_map={'Yes': '#FF6347', 'No': '#4682B4'}\n",
    ")\n",
    "fig.show()\n",
    "\n",
    "# Melakukan uji t-test antara MonthlyIncome Attrition Yes dan No\n",
    "income_yes = data.loc[data['Attrition'] == 'Yes', 'MonthlyIncome']\n",
    "income_no = data.loc[data['Attrition'] == 'No', 'MonthlyIncome']\n",
    "t_stat, p_value = ttest_ind(income_yes, income_no, equal_var=False)  # Tambahkan equal_var=False untuk asumsi unequal variances\n",
    "\n",
    "print(f\"T-Statistic: {t_stat:.4f}, P-Value: {p_value:.4e}\")\n",
    "\n",
    "# Membuat scatter plot interaktif MonthlyIncome vs HourlyRate\n",
    "fig = px.scatter(\n",
    "    data,\n",
    "    x='MonthlyIncome',\n",
    "    y='HourlyRate',\n",
    "    color='Attrition',\n",
    "    symbol='Department',\n",
    "    title=\"Relationship between Monthly Income and Hourly Rate by Attrition Status and Department\",\n",
    "    labels={'MonthlyIncome': 'Monthly Income', 'HourlyRate': 'Hourly Rate'}\n",
    ")\n",
    "fig.show()\n",
    "\n",
    "# Menghitung jumlah attrition berdasarkan EducationField\n",
    "attrition_by_education = (\n",
    "    data.groupby(['EducationField', 'Attrition'])\n",
    "        .size()\n",
    "        .reset_index(name='Count')\n",
    ")\n",
    "\n",
    "# Menambahkan kolom Total dan AttritionRate\n",
    "attrition_by_education['Total'] = attrition_by_education.groupby('EducationField')['Count'].transform('sum')\n",
    "attrition_by_education['AttritionRate'] = attrition_by_education['Count'] / attrition_by_education['Total']\n",
    "\n",
    "# Filter hanya Attrition = Yes\n",
    "attrition_yes = attrition_by_education.query(\"Attrition == 'Yes'\")\n",
    "\n",
    "# Membuat bar chart Attrition Rate berdasarkan EducationField\n",
    "fig = px.bar(\n",
    "    attrition_yes,\n",
    "    x='EducationField',\n",
    "    y='AttritionRate',\n",
    "    color='EducationField',\n",
    "    title='Attrition Rate by Education Field',\n",
    "    labels={'AttritionRate': 'Attrition Rate', 'EducationField': 'Education Field'},\n",
    "    color_discrete_map={\n",
    "        'Life Sciences': '#FF6347',\n",
    "        'Other': '#4682B4',\n",
    "        'Medical': '#FFD700',\n",
    "        'Marketing': '#32CD32',\n",
    "        'Technical Degree': '#8A2BE2',\n",
    "        'Human Resources': '#FF4500'\n",
    "    }\n",
    ")\n",
    "fig.show()\n",
    "\n",
    "# Menghitung jumlah attrition berdasarkan OverTime\n",
    "attrition_overtime = (\n",
    "    data.groupby(['OverTime', 'Attrition'])\n",
    "        .size()\n",
    "        .reset_index(name='Count')\n",
    ")\n",
    "\n",
    "# Menambahkan kolom Total dan AttritionRate\n",
    "attrition_overtime['Total'] = attrition_overtime.groupby('OverTime')['Count'].transform('sum')\n",
    "attrition_overtime['AttritionRate'] = attrition_overtime['Count'] / attrition_overtime['Total']\n",
    "\n",
    "# Filter hanya Attrition = Yes\n",
    "attrition_yes_overtime = attrition_overtime.query(\"Attrition == 'Yes'\")\n",
    "\n",
    "# Membuat bar chart Attrition Rate berdasarkan OverTime\n",
    "fig = px.bar(\n",
    "    attrition_yes_overtime,\n",
    "    x='OverTime',\n",
    "    y='AttritionRate',\n",
    "    color='OverTime',\n",
    "    title='Attrition Rate by Overtime Status',\n",
    "    labels={'AttritionRate': 'Attrition Rate', 'OverTime': 'Overtime Status'},\n",
    "    color_discrete_map={'Yes': '#FF6347', 'No': '#4682B4'}\n",
    ")\n",
    "fig.show()\n",
    "\n",
    "# Menampilkan tabel attrition_overtime\n",
    "display(attrition_overtime)"
   ],
   "outputs": [],
   "execution_count": null
  },
  {
   "metadata": {},
   "cell_type": "code",
   "source": [
    "# Versi final yang sudah diperbaiki dan dioptimalkan\n",
    "work_life_attrition = (\n",
    "    data_clean.groupby(['WorkLifeBalance', 'Attrition'], observed=True)  # Tambahkan observed=True\n",
    "    .size()\n",
    "    .unstack()\n",
    "    .assign(\n",
    "        Total=lambda x: x.sum(axis=1),\n",
    "        Attrition_Rate=lambda x: x['Yes']/x['Total']\n",
    "    )\n",
    ")\n",
    "\n",
    "# Membuat visualisasi dengan penanganan edge cases\n",
    "if 'Yes' in work_life_attrition.columns:\n",
    "    fig = px.bar(\n",
    "        work_life_attrition.reset_index(),  # Convert index to column\n",
    "        x='WorkLifeBalance',\n",
    "        y='Attrition_Rate',\n",
    "        labels={'WorkLifeBalance': 'Work-Life Balance', 'Attrition_Rate': 'Attrition Rate'},\n",
    "        title=\"Attrition Rate by Work-Life Balance\",\n",
    "        color='WorkLifeBalance',\n",
    "        color_discrete_map={\n",
    "            'Low': '#FF6347',\n",
    "            'Good': '#4682B4',\n",
    "            'Excellent': '#32CD32',\n",
    "            'Outstanding': '#FFD700'\n",
    "        },\n",
    "        text_auto='.1%'  # Menampilkan persentase di atas bar\n",
    "    )\n",
    "    fig.update_layout(yaxis_tickformat='.0%')  # Format sumbu Y sebagai persentase\n",
    "    fig.show()\n",
    "else:\n",
    "    print(\"Tidak ada data Attrition 'Yes' yang ditemukan\")"
   ],
   "outputs": [],
   "execution_count": null
  },
  {
   "metadata": {},
   "cell_type": "code",
   "source": [
    "# Grouping data berdasarkan OverTime dan Attrition\n",
    "overtime_attrition = (\n",
    "    data.groupby(['OverTime', 'Attrition'])\n",
    "    .size()\n",
    "    .reset_index(name='Count')\n",
    ")\n",
    "\n",
    "# Membuat bar chart attrition berdasarkan overtime status\n",
    "fig = px.bar(\n",
    "    overtime_attrition,\n",
    "    x='OverTime',\n",
    "    y='Count',\n",
    "    color='Attrition',\n",
    "    title=\"Attrition Based on Overtime\",\n",
    "    labels={'OverTime': 'Overtime', 'Attrition': 'Attrition', 'Count': 'Count'},\n",
    "    color_discrete_map={'Yes': '#FF6347', 'No': '#4682B4'},\n",
    "    barmode='group'\n",
    ")\n",
    "fig.show()\n"
   ],
   "outputs": [],
   "execution_count": null
  },
  {
   "metadata": {},
   "cell_type": "code",
   "source": [
    "# Calculate attrition rate untuk setiap Environment Satisfaction\n",
    "env_satisfaction_attrition_rate = (\n",
    "    data_clean.groupby('EnvironmentSatisfaction', observed=True)['Attrition']\n",
    "    .value_counts(normalize=True)\n",
    "    .unstack()\n",
    "    .fillna(0)\n",
    ")\n",
    "\n",
    "env_satisfaction_attrition_rate = env_satisfaction_attrition_rate['Yes']\n",
    "\n",
    "# Membuat bar plot Environment Satisfaction vs Attrition Rate\n",
    "fig = px.bar(\n",
    "    env_satisfaction_attrition_rate,\n",
    "    x=env_satisfaction_attrition_rate.index,\n",
    "    y=env_satisfaction_attrition_rate.values,\n",
    "    labels={'x': 'Environment Satisfaction', 'y': 'Attrition Rate'},\n",
    "    title=\"Attrition Rate by Environment Satisfaction\"\n",
    ")\n",
    "fig.show()\n"
   ],
   "outputs": [],
   "execution_count": null
  },
  {
   "metadata": {},
   "cell_type": "code",
   "source": [
    "# Calculate attrition rate untuk setiap Job Satisfaction\n",
    "job_satisfaction_attrition_rate = (\n",
    "    data_clean.groupby('JobSatisfaction', observed=True)['Attrition']\n",
    "    .value_counts(normalize=True)\n",
    "    .unstack()\n",
    "    .fillna(0)\n",
    ")\n",
    "\n",
    "job_satisfaction_attrition_rate = job_satisfaction_attrition_rate['Yes']\n",
    "\n",
    "# Membuat bar plot Job Satisfaction vs Attrition Rate\n",
    "fig = px.bar(\n",
    "    job_satisfaction_attrition_rate,\n",
    "    x=job_satisfaction_attrition_rate.index,\n",
    "    y=job_satisfaction_attrition_rate.values,\n",
    "    labels={'x': 'Job Satisfaction', 'y': 'Attrition Rate'},\n",
    "    title=\"Attrition Rate by Job Satisfaction\"\n",
    ")\n",
    "fig.show()\n"
   ],
   "outputs": [],
   "execution_count": null
  },
  {
   "metadata": {},
   "cell_type": "code",
   "source": [
    "# Membuat histogram distribusi YearsAtCompany berdasarkan Attrition\n",
    "fig = px.histogram(\n",
    "    data,\n",
    "    x='YearsAtCompany',\n",
    "    color='Attrition',\n",
    "    barmode='overlay',\n",
    "    title=\"Distribution of Work Experience by Attrition\",\n",
    "    labels={'YearsAtCompany': 'Years at Company', 'Attrition': 'Attrition'},\n",
    "    color_discrete_map={'Yes': '#FF6347', 'No': '#4682B4'},\n",
    "    nbins=15,\n",
    "    histfunc='count'\n",
    ")\n",
    "fig.show()\n"
   ],
   "outputs": [],
   "execution_count": null
  },
  {
   "metadata": {},
   "cell_type": "code",
   "source": [
    "# Group employees berdasarkan TotalWorkingYears dan hitung jumlah attrition\n",
    "attrition_comparison = (\n",
    "    data_clean.groupby(['TotalWorkingYears', 'Attrition'], observed=True)\n",
    "    .size()\n",
    "    .unstack()\n",
    "    .fillna(0)\n",
    ")\n",
    "\n",
    "# Membuat line plot attrition berdasarkan total working years\n",
    "fig = px.line(\n",
    "    attrition_comparison,\n",
    "    x=attrition_comparison.index,\n",
    "    y=['Yes', 'No'],\n",
    "    labels={'TotalWorkingYears': 'Total Working Years', 'value': 'Count', 'variable': 'Attrition'},\n",
    "    title=\"Attrition Comparison by Work Experience (Total Working Years)\",\n",
    "    markers=True\n",
    ")\n",
    "fig.show()\n"
   ],
   "outputs": [],
   "execution_count": null
  },
  {
   "metadata": {},
   "cell_type": "code",
   "source": [
    "# Hitung jumlah attrition berdasarkan Education Level\n",
    "attrition_counts_education = (\n",
    "    data_clean.groupby('Education', observed=True)['Attrition']\n",
    "    .value_counts()\n",
    "    .unstack()\n",
    "    .fillna(0)\n",
    ")\n",
    "\n",
    "# Membuat bar plot attrition berdasarkan Education Level\n",
    "fig = px.bar(\n",
    "    attrition_counts_education,\n",
    "    x=attrition_counts_education.index,\n",
    "    y=['Yes', 'No'],\n",
    "    labels={'Education': 'Education Level', 'value': 'Count', 'variable': 'Attrition'},\n",
    "    title=\"Attrition Count by Education Level\",\n",
    "    color='variable',\n",
    "    color_discrete_map={'Yes': '#FF6347', 'No': '#4682B4'},\n",
    "    barmode='group'\n",
    ")\n",
    "fig.show()\n"
   ],
   "outputs": [],
   "execution_count": null
  },
  {
   "metadata": {},
   "cell_type": "code",
   "source": "data.to_csv('employee.csv', index=False)",
   "outputs": [],
   "execution_count": null
  },
  {
   "cell_type": "markdown",
   "metadata": {},
   "source": [
    "## Modeling"
   ]
  },
  {
   "metadata": {},
   "cell_type": "code",
   "source": "data.info()",
   "outputs": [],
   "execution_count": null
  },
  {
   "metadata": {},
   "cell_type": "code",
   "source": [
    "data.drop(columns='EmployeeId',inplace=True)\n",
    "data"
   ],
   "outputs": [],
   "execution_count": null
  },
  {
   "metadata": {},
   "cell_type": "code",
   "source": [
    "# Mapping metadata untuk mengubah kategori menjadi numerik\n",
    "mapping_metadata_to_numeric = {\n",
    "    \"Attrition\": {\"No\": 0, \"Yes\": 1},\n",
    "    \"Education\": {\"Below College\": 1, \"College\": 2, \"Bachelor\": 3, \"Master\": 4, \"Doctor\": 5},\n",
    "    \"EnvironmentSatisfaction\": {\"Low\": 1, \"Medium\": 2, \"High\": 3, \"Very High\": 4},\n",
    "    \"JobInvolvement\": {\"Low\": 1, \"Medium\": 2, \"High\": 3, \"Very High\": 4},\n",
    "    \"JobSatisfaction\": {\"Low\": 1, \"Medium\": 2, \"High\": 3, \"Very High\": 4},\n",
    "    \"PerformanceRating\": {\"Low\": 1, \"Good\": 2, \"Excellent\": 3, \"Outstanding\": 4},\n",
    "    \"RelationshipSatisfaction\": {\"Low\": 1, \"Medium\": 2, \"High\": 3, \"Very High\": 4},\n",
    "    \"WorkLifeBalance\": {\"Low\": 1, \"Good\": 2, \"Excellent\": 3, \"Outstanding\": 4}\n",
    "}\n",
    "\n",
    "# Konversi kategori menjadi numerik\n",
    "for col, mapping in mapping_metadata_to_numeric.items():\n",
    "    if col in data.columns:\n",
    "        data[col] = data[col].map(mapping).astype(\"int\")\n",
    "\n",
    "# Periksa tipe data setelah konversi\n",
    "data"
   ],
   "outputs": [],
   "execution_count": null
  },
  {
   "metadata": {},
   "cell_type": "code",
   "source": [
    "columns = ['BusinessTravel',\n",
    "    'Department',\n",
    "    'EducationField',\n",
    "    'Gender',\n",
    "    'JobRole',\n",
    "    'MaritalStatus',\n",
    "    'OverTime']\n",
    "\n",
    "# Inisialisasi LabelEncoder\n",
    "label_encoders = {}\n",
    "\n",
    "# Proses encoding untuk setiap kolom\n",
    "for col in columns:\n",
    "    if col in data.columns:\n",
    "        le = LabelEncoder()\n",
    "        data[col] = le.fit_transform(data[col])\n",
    "        label_encoders[col] = le  # Simpan encoder untuk referensi di masa depan\n",
    "\n",
    "# Periksa data setelah transformasi\n",
    "data"
   ],
   "outputs": [],
   "execution_count": null
  },
  {
   "metadata": {},
   "cell_type": "code",
   "source": [
    "x = data.drop('Attrition',axis=1)\n",
    "y = data['Attrition']"
   ],
   "outputs": [],
   "execution_count": null
  },
  {
   "metadata": {},
   "cell_type": "code",
   "source": [
    "#split data into train and test set.\n",
    "X_train,X_test,y_train,y_test = train_test_split(x,y,test_size=0.20,random_state=42)"
   ],
   "outputs": [],
   "execution_count": null
  },
  {
   "metadata": {},
   "cell_type": "code",
   "source": [
    "# Inisialisasi scaler\n",
    "scaler = MinMaxScaler()\n",
    "\n",
    "# Fit scaler pada data training dan transformasi\n",
    "X_train = scaler.fit_transform(X_train)\n",
    "\n",
    "# Transformasi data testing menggunakan scaler yang sama\n",
    "X_test = scaler.transform(X_test)"
   ],
   "outputs": [],
   "execution_count": null
  },
  {
   "metadata": {},
   "cell_type": "code",
   "source": [
    "print(X_train.shape)\n",
    "print(X_test.shape)"
   ],
   "outputs": [],
   "execution_count": null
  },
  {
   "metadata": {},
   "cell_type": "code",
   "source": [
    "boost = AdaBoostClassifier(base_estimator = RandomForestClassifier(max_depth=1), n_estimators=500, algorithm='SAMME',learning_rate=0.01)\n",
    "\n",
    "boost.fit(X_train,y_train)"
   ],
   "outputs": [],
   "execution_count": null
  },
  {
   "metadata": {},
   "cell_type": "code",
   "source": "predictions = boost.predict(X_test)",
   "outputs": [],
   "execution_count": null
  },
  {
   "metadata": {},
   "cell_type": "markdown",
   "source": "## Evaluation"
  },
  {
   "cell_type": "code",
   "metadata": {},
   "source": [
    "# Evaluasi model\n",
    "accuracy = accuracy_score(y_test, predictions)\n",
    "print(f\"Akurasi Model: {accuracy:.2f}\")"
   ],
   "outputs": [],
   "execution_count": null
  },
  {
   "metadata": {},
   "cell_type": "code",
   "source": [
    "# Laporan klasifikasi\n",
    "print(\"\\nLaporan Klasifikasi:\")\n",
    "print(classification_report(y_test, predictions))"
   ],
   "outputs": [],
   "execution_count": null
  },
  {
   "metadata": {},
   "cell_type": "code",
   "source": [
    "# Confusion Matrix\n",
    "conf_matrix = confusion_matrix(y_test, predictions)"
   ],
   "outputs": [],
   "execution_count": null
  },
  {
   "metadata": {},
   "cell_type": "code",
   "source": [
    "# Visualisasi Confusion Matrix\n",
    "plt.figure(figsize=(8, 6))\n",
    "sns.heatmap(conf_matrix, annot=True, fmt=\"d\", cmap=\"Blues\", xticklabels=set(y_test), yticklabels=set(y_test))\n",
    "plt.title(\"Confusion Matrix\")\n",
    "plt.xlabel(\"Prediksi\")\n",
    "plt.ylabel(\"Aktual\")\n",
    "plt.show()"
   ],
   "outputs": [],
   "execution_count": null
  },
  {
   "metadata": {},
   "cell_type": "code",
   "source": [
    "# Save the model\n",
    "joblib.dump(boost, 'adaboost_model.pkl')\n",
    "\n",
    "print(\"Model saved successfully!\")"
   ],
   "outputs": [],
   "execution_count": null
  }
 ],
 "metadata": {
  "kernelspec": {
   "display_name": "ds",
   "language": "python",
   "name": "python3"
  },
  "language_info": {
   "name": "python",
   "version": "3.9.18"
  },
  "orig_nbformat": 4
 },
 "nbformat": 4,
 "nbformat_minor": 2
}
